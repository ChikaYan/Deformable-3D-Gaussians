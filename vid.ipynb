{
 "cells": [
  {
   "cell_type": "code",
   "execution_count": 1,
   "metadata": {},
   "outputs": [],
   "source": [
    "import imageio\n",
    "from pathlib import Path\n",
    "import torch\n",
    "import torchvision\n"
   ]
  },
  {
   "cell_type": "code",
   "execution_count": 10,
   "metadata": {},
   "outputs": [
    {
     "data": {
      "text/plain": [
       "tensor([50,  1])"
      ]
     },
     "execution_count": 10,
     "metadata": {},
     "output_type": "execute_result"
    }
   ],
   "source": [
    "torch.stack(torch.meshgrid(torch.arange(64), torch.arange(64)))[:,50,1]"
   ]
  },
  {
   "cell_type": "code",
   "execution_count": 2,
   "metadata": {},
   "outputs": [
    {
     "name": "stderr",
     "output_type": "stream",
     "text": [
      "/tmp/ipykernel_153162/3753774432.py:5: DeprecationWarning: Starting with ImageIO v3 the behavior of this function will switch to that of iio.v3.imread. To keep the current behavior (and make this warning disappear) use `import imageio.v2 as imageio` or call `imageio.v2.imread` directly.\n",
      "  im = imageio.imread(str(im_p))\n",
      "/rds/user/tw554/hpc-work/workspace/conda/envs/deformable_gaussian_env/lib/python3.9/site-packages/torchvision/io/video.py:83: UserWarning: Creating a tensor from a list of numpy.ndarrays is extremely slow. Please consider converting the list to a single numpy.ndarray with numpy.array() before converting to a tensor. (Triggered internally at ../torch/csrc/utils/tensor_new.cpp:245.)\n",
      "  video_array = torch.as_tensor(video_array, dtype=torch.uint8).numpy()\n"
     ]
    }
   ],
   "source": [
    "im_dir = Path('/rds/project/rds-qxpdOeYWi78/Deformable-3D-Gaussians/output/id1/gaussian_head/test/ours_80000/renders')\n",
    "\n",
    "ims = []\n",
    "for im_p in sorted(list(im_dir.glob('*'))):\n",
    "    im = imageio.imread(str(im_p))\n",
    "    ims.append(im)\n",
    "\n",
    "torchvision.io.write_video('/rds/project/rds-qxpdOeYWi78/Deformable-3D-Gaussians/output/id1/gaussian_head/test/ours_80000/renders.mp4', ims, fps=30)"
   ]
  },
  {
   "cell_type": "code",
   "execution_count": 2,
   "metadata": {},
   "outputs": [
    {
     "name": "stderr",
     "output_type": "stream",
     "text": [
      "/tmp/ipykernel_4148881/3742563452.py:5: DeprecationWarning: Starting with ImageIO v3 the behavior of this function will switch to that of iio.v3.imread. To keep the current behavior (and make this warning disappear) use `import imageio.v2 as imageio` or call `imageio.v2.imread` directly.\n",
      "  im = imageio.imread(str(im_p))\n",
      "/rds/user/tw554/hpc-work/workspace/conda/envs/deformable_gaussian_env/lib/python3.9/site-packages/torchvision/io/video.py:83: UserWarning: Creating a tensor from a list of numpy.ndarrays is extremely slow. Please consider converting the list to a single numpy.ndarray with numpy.array() before converting to a tensor. (Triggered internally at ../torch/csrc/utils/tensor_new.cpp:245.)\n",
      "  video_array = torch.as_tensor(video_array, dtype=torch.uint8).numpy()\n"
     ]
    }
   ],
   "source": [
    "im_dir = Path('/rds/project/rds-qxpdOeYWi78/Deformable-3D-Gaussians/output/id1/gaussian_head/test/ours_80000/gt')\n",
    "\n",
    "ims = []\n",
    "for im_p in sorted(list(im_dir.glob('*'))):\n",
    "    im = imageio.imread(str(im_p))\n",
    "    ims.append(im)\n",
    "\n",
    "torchvision.io.write_video('/rds/project/rds-qxpdOeYWi78/Deformable-3D-Gaussians/output/id1/gaussian_head/test/ours_80000/gt.mp4', ims, fps=30)"
   ]
  },
  {
   "cell_type": "code",
   "execution_count": null,
   "metadata": {},
   "outputs": [],
   "source": []
  }
 ],
 "metadata": {
  "kernelspec": {
   "display_name": "deformable_gaussian_env",
   "language": "python",
   "name": "python3"
  },
  "language_info": {
   "codemirror_mode": {
    "name": "ipython",
    "version": 3
   },
   "file_extension": ".py",
   "mimetype": "text/x-python",
   "name": "python",
   "nbconvert_exporter": "python",
   "pygments_lexer": "ipython3",
   "version": "3.9.18"
  }
 },
 "nbformat": 4,
 "nbformat_minor": 2
}
