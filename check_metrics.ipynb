{
 "cells": [
  {
   "cell_type": "code",
   "execution_count": 1,
   "metadata": {},
   "outputs": [],
   "source": [
    "import imageio\n",
    "from pathlib import Path\n",
    "import numpy as np\n"
   ]
  },
  {
   "cell_type": "code",
   "execution_count": 3,
   "metadata": {},
   "outputs": [
    {
     "name": "stderr",
     "output_type": "stream",
     "text": [
      "/tmp/ipykernel_153528/1832400752.py:1: DeprecationWarning: Starting with ImageIO v3 the behavior of this function will switch to that of iio.v3.imread. To keep the current behavior (and make this warning disappear) use `import imageio.v2 as imageio` or call `imageio.v2.imread` directly.\n",
      "  gt = imageio.imread('/rds/project/rds-qxpdOeYWi78/Deformable-3D-Gaussians/output/insta_soubhik/layer_deform/fourier/test/ours_40000/gt/00000.png') / 255.\n",
      "/tmp/ipykernel_153528/1832400752.py:2: DeprecationWarning: Starting with ImageIO v3 the behavior of this function will switch to that of iio.v3.imread. To keep the current behavior (and make this warning disappear) use `import imageio.v2 as imageio` or call `imageio.v2.imread` directly.\n",
      "  im = imageio.imread('/rds/project/rds-qxpdOeYWi78/Deformable-3D-Gaussians/output/insta_soubhik/layer_deform/fourier/test/ours_40000/renders/00000.png') / 255.\n"
     ]
    },
    {
     "data": {
      "text/plain": [
       "0.013922559989196863"
      ]
     },
     "execution_count": 3,
     "metadata": {},
     "output_type": "execute_result"
    }
   ],
   "source": [
    "gt = imageio.imread('/rds/project/rds-qxpdOeYWi78/Deformable-3D-Gaussians/output/insta_soubhik/layer_deform/fourier/test/ours_40000/gt/00000.png') / 255.\n",
    "im = imageio.imread('/rds/project/rds-qxpdOeYWi78/Deformable-3D-Gaussians/output/insta_soubhik/layer_deform/fourier/test/ours_40000/renders/00000.png') / 255.\n",
    "\n",
    "mse = np.mean((gt - im) ** 2)\n",
    "mse"
   ]
  },
  {
   "cell_type": "code",
   "execution_count": 4,
   "metadata": {},
   "outputs": [
    {
     "name": "stderr",
     "output_type": "stream",
     "text": [
      "/tmp/ipykernel_153528/3340697517.py:1: DeprecationWarning: Starting with ImageIO v3 the behavior of this function will switch to that of iio.v3.imread. To keep the current behavior (and make this warning disappear) use `import imageio.v2 as imageio` or call `imageio.v2.imread` directly.\n",
      "  gt = imageio.imread('/rds/project/rds-qxpdOeYWi78/Deformable-3D-Gaussians/output/insta_soubhik/layer_deform/fourier/test/ours_40000/gt/00000.png') / 255.\n",
      "/tmp/ipykernel_153528/3340697517.py:2: DeprecationWarning: Starting with ImageIO v3 the behavior of this function will switch to that of iio.v3.imread. To keep the current behavior (and make this warning disappear) use `import imageio.v2 as imageio` or call `imageio.v2.imread` directly.\n",
      "  im = imageio.imread('/rds/project/rds-qxpdOeYWi78/Deformable-3D-Gaussians/output/insta_soubhik/layer_deform/hash/test/ours_40000/renders/00000.png') / 255.\n"
     ]
    },
    {
     "data": {
      "text/plain": [
       "0.014086440713470079"
      ]
     },
     "execution_count": 4,
     "metadata": {},
     "output_type": "execute_result"
    }
   ],
   "source": [
    "gt = imageio.imread('/rds/project/rds-qxpdOeYWi78/Deformable-3D-Gaussians/output/insta_soubhik/layer_deform/fourier/test/ours_40000/gt/00000.png') / 255.\n",
    "im = imageio.imread('/rds/project/rds-qxpdOeYWi78/Deformable-3D-Gaussians/output/insta_soubhik/layer_deform/hash/test/ours_40000/renders/00000.png') / 255.\n",
    "\n",
    "mse = np.mean((gt - im) ** 2)\n",
    "mse"
   ]
  },
  {
   "cell_type": "code",
   "execution_count": null,
   "metadata": {},
   "outputs": [],
   "source": []
  }
 ],
 "metadata": {
  "kernelspec": {
   "display_name": "deformable_gaussian_env",
   "language": "python",
   "name": "python3"
  },
  "language_info": {
   "codemirror_mode": {
    "name": "ipython",
    "version": 3
   },
   "file_extension": ".py",
   "mimetype": "text/x-python",
   "name": "python",
   "nbconvert_exporter": "python",
   "pygments_lexer": "ipython3",
   "version": "3.9.18"
  }
 },
 "nbformat": 4,
 "nbformat_minor": 2
}
